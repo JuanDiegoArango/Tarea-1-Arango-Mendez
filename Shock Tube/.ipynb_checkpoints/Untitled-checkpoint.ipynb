{
 "cells": [
  {
   "cell_type": "code",
   "execution_count": 172,
   "metadata": {
    "collapsed": false
   },
   "outputs": [
    {
     "name": "stdout",
     "output_type": "stream",
     "text": [
      "Populating the interactive namespace from numpy and matplotlib\n"
     ]
    }
   ],
   "source": [
    "%pylab inline\n",
    "from scipy import special, optimize\n"
   ]
  },
  {
   "cell_type": "code",
   "execution_count": 146,
   "metadata": {
    "collapsed": true
   },
   "outputs": [],
   "source": [
    "gamma=1.4\n",
    "lambda_=zeros(3)\n",
    "deltaV=zeros(3)\n",
    "F=zeros(3)\n",
    "\n",
    "r=zeros((3,3))\n"
   ]
  },
  {
   "cell_type": "code",
   "execution_count": 155,
   "metadata": {
    "collapsed": true
   },
   "outputs": [],
   "source": [
    "rho1=1.000000\n",
    "u1=0.000000\n",
    "p1 =1.000000\n",
    "h1 =2.000000\n",
    "\n",
    "\n",
    "rho4=0.125000\n",
    "u4=0.000000\n",
    "p4=0.100000\n",
    "h4=1.800000"
   ]
  },
  {
   "cell_type": "code",
   "execution_count": 156,
   "metadata": {
    "collapsed": false
   },
   "outputs": [],
   "source": [
    "rhoRl =sqrt(rho1*rho4)\n",
    "uRl=(sqrt(rho1)*u1+sqrt(rho4)*u4)/(sqrt(rho1)+sqrt(rho4))\n",
    "hRl=(sqrt(rho1)*h1+sqrt(rho4)*h4)/(sqrt(rho1)+sqrt(rho4))\n",
    "aRl=sqrt((gamma - 1)*(hRl-0.5*uRl*uRl))"
   ]
  },
  {
   "cell_type": "code",
   "execution_count": 157,
   "metadata": {
    "collapsed": true
   },
   "outputs": [],
   "source": [
    "lambda_[0]=uRl\n",
    "lambda_[1]=uRl-aRl\n",
    "lambda_[2]=uRl+aRl"
   ]
  },
  {
   "cell_type": "code",
   "execution_count": 158,
   "metadata": {
    "collapsed": false
   },
   "outputs": [
    {
     "data": {
      "text/plain": [
       "array([ 0.        , -0.88266851,  0.88266851])"
      ]
     },
     "execution_count": 158,
     "metadata": {},
     "output_type": "execute_result"
    }
   ],
   "source": [
    "lambda_"
   ]
  },
  {
   "cell_type": "code",
   "execution_count": 159,
   "metadata": {
    "collapsed": false
   },
   "outputs": [],
   "source": [
    "delta_rho=rho1-rho4\n",
    "delta_p=p1-p4\n",
    "delta_u=u1-u4\n",
    "a=rhoRl/(2*aRl)"
   ]
  },
  {
   "cell_type": "code",
   "execution_count": 160,
   "metadata": {
    "collapsed": false
   },
   "outputs": [],
   "source": [
    "deltaV[0]=delta_rho-delta_p/(aRl*aRl)\n",
    "deltaV[1]=delta_u+delta_p/(aRl*rhoRl)\n",
    "deltaV[2]=delta_u-delta_p/(aRl*rhoRl)"
   ]
  },
  {
   "cell_type": "code",
   "execution_count": null,
   "metadata": {
    "collapsed": true
   },
   "outputs": [],
   "source": []
  },
  {
   "cell_type": "code",
   "execution_count": 161,
   "metadata": {
    "collapsed": true
   },
   "outputs": [],
   "source": [
    "r[0][0]=1.0\n",
    "r[0][1]=uRl\n",
    "r[0][2]=0.5*uRl*uRl\n",
    "    \n",
    "r[1][0]=a;\n",
    "r[1][1]=a*(uRl+aRl)\n",
    "r[1][2]=a*(hRl+aRl*uRl)\n",
    "    \n",
    "r[2][0]=-a\n",
    "r[2][1]=-a*(uRl-aRl)\n",
    "r[2][2]=-a*(hRl-aRl*uRl)\n",
    "    \n",
    "F[0]=r[0][0]*min(0,lambda_[0])*deltaV[0]+r[1][0]*min(0,lambda_[1])*deltaV[1]+r[2][0]*min(0,lambda_[2])*deltaV[2]+(rho4*u4)\n",
    "F[1]=r[0][1]*min(0,lambda_[0])*deltaV[0]+r[1][1]*min(0,lambda_[1])*deltaV[1]+r[2][1]*min(0,lambda_[2])*deltaV[2]+(rho4*u4*u4+p4)\n",
    "F[2]=r[0][2]*min(0,lambda_[0])*deltaV[0]+r[1][2]*min(0,lambda_[1])*deltaV[1]+r[2][2]*min(0,lambda_[2])*deltaV[2]+(rho4*h4*u4)"
   ]
  },
  {
   "cell_type": "code",
   "execution_count": 162,
   "metadata": {
    "collapsed": false
   },
   "outputs": [
    {
     "data": {
      "text/plain": [
       "array([-0.50981767, -0.35      , -0.99300207])"
      ]
     },
     "execution_count": 162,
     "metadata": {},
     "output_type": "execute_result"
    }
   ],
   "source": [
    "F"
   ]
  },
  {
   "cell_type": "code",
   "execution_count": 371,
   "metadata": {
    "collapsed": true
   },
   "outputs": [],
   "source": [
    "rho1=0.125000\n",
    "u1=0.000000\n",
    "p1=0.100000\n",
    "h1=1.800000"
   ]
  },
  {
   "cell_type": "code",
   "execution_count": 372,
   "metadata": {
    "collapsed": true
   },
   "outputs": [],
   "source": [
    "rho4=1.000000\n",
    "u4=0.000000\n",
    "p4 =1.000000\n",
    "h4 =2.000000"
   ]
  },
  {
   "cell_type": "code",
   "execution_count": 373,
   "metadata": {
    "collapsed": false
   },
   "outputs": [
    {
     "data": {
      "text/plain": [
       "0.875"
      ]
     },
     "execution_count": 373,
     "metadata": {},
     "output_type": "execute_result"
    }
   ],
   "source": [
    "delta_rho"
   ]
  },
  {
   "cell_type": "code",
   "execution_count": 374,
   "metadata": {
    "collapsed": false
   },
   "outputs": [
    {
     "data": {
      "text/plain": [
       "0.9"
      ]
     },
     "execution_count": 374,
     "metadata": {},
     "output_type": "execute_result"
    }
   ],
   "source": [
    "delta_p"
   ]
  },
  {
   "cell_type": "code",
   "execution_count": 120,
   "metadata": {
    "collapsed": false
   },
   "outputs": [
    {
     "data": {
      "text/plain": [
       "0.0"
      ]
     },
     "execution_count": 120,
     "metadata": {},
     "output_type": "execute_result"
    }
   ],
   "source": [
    "delta_u"
   ]
  },
  {
   "cell_type": "code",
   "execution_count": 163,
   "metadata": {
    "collapsed": true
   },
   "outputs": [],
   "source": [
    "def presion1 (p2):\n",
    "    return  (p2/p1)*pow((1-(gamma-1)*(a1/a4)*(p1/p2-1)/sqrt(2*gamma*(2*gamma+(gamma+1)*(p2/p1-1)))),-2*gamma/(gamma-1)) -p4/p1\n"
   ]
  },
  {
   "cell_type": "code",
   "execution_count": 164,
   "metadata": {
    "collapsed": true
   },
   "outputs": [],
   "source": [
    "def velocidad2(p2):\n",
    "    return a1/gamma*(p2/p1-1)*sqrt((2*gamma)/(gamma-1)/(p2/p1+(gamma-1/gamma+1)))\n"
   ]
  },
  {
   "cell_type": "code",
   "execution_count": 175,
   "metadata": {
    "collapsed": true
   },
   "outputs": [],
   "source": [
    "def seno(x):\n",
    "    return np.sin(x)"
   ]
  },
  {
   "cell_type": "code",
   "execution_count": 176,
   "metadata": {
    "collapsed": false
   },
   "outputs": [
    {
     "data": {
      "text/plain": [
       "3.1415926535897931"
      ]
     },
     "execution_count": 176,
     "metadata": {},
     "output_type": "execute_result"
    }
   ],
   "source": []
  },
  {
   "cell_type": "code",
   "execution_count": 184,
   "metadata": {
    "collapsed": false
   },
   "outputs": [
    {
     "data": {
      "text/plain": [
       "array([  0.00000000e+00,   1.00025006e-03,   2.00050013e-03, ...,\n",
       "         3.99799950e+00,   3.99899975e+00,   4.00000000e+00])"
      ]
     },
     "execution_count": 184,
     "metadata": {},
     "output_type": "execute_result"
    }
   ],
   "source": [
    "(linspace(0,4.0,4*1000))"
   ]
  },
  {
   "cell_type": "code",
   "execution_count": 182,
   "metadata": {
    "collapsed": false
   },
   "outputs": [
    {
     "ename": "NameError",
     "evalue": "name 'L' is not defined",
     "output_type": "error",
     "traceback": [
      "\u001b[0;31m---------------------------------------------------------------------------\u001b[0m",
      "\u001b[0;31mNameError\u001b[0m                                 Traceback (most recent call last)",
      "\u001b[0;32m<ipython-input-182-f5895a641a48>\u001b[0m in \u001b[0;36m<module>\u001b[0;34m()\u001b[0m\n\u001b[0;32m----> 1\u001b[0;31m \u001b[0mdominio\u001b[0m\u001b[0;34m=\u001b[0m\u001b[0mzeros\u001b[0m\u001b[0;34m(\u001b[0m\u001b[0mL\u001b[0m\u001b[0;34m*\u001b[0m\u001b[0mN\u001b[0m\u001b[0;34m)\u001b[0m\u001b[0;34m\u001b[0m\u001b[0m\n\u001b[0m\u001b[1;32m      2\u001b[0m \u001b[0mlen\u001b[0m\u001b[0;34m(\u001b[0m\u001b[0mdominio\u001b[0m\u001b[0;34m)\u001b[0m\u001b[0;34m\u001b[0m\u001b[0m\n",
      "\u001b[0;31mNameError\u001b[0m: name 'L' is not defined"
     ]
    }
   ],
   "source": [
    "dominio=zeros(L*N)\n",
    "len(dominio)"
   ]
  },
  {
   "cell_type": "code",
   "execution_count": 423,
   "metadata": {
    "collapsed": false
   },
   "outputs": [],
   "source": [
    "import numpy as np\n",
    "from scipy import special, optimize\n",
    "\n",
    "\"CONSTANTE DE GAS IDEAL\"\n",
    "R=287.049\n",
    "\"PARTICION\"\n",
    "N=10000\n",
    "\"longtidu del tubo\"\n",
    "L = 4.0\n",
    "array_posiciones=np.linspace(0,L,N*L)\n",
    "\"cosntante adiabatica\"\n",
    "gamma = 1.4\n",
    "\"propiedades gas 4 iniciales\"\n",
    "rho4 = 1\n",
    "p4 = 1\n",
    "u4= 0\n",
    "T4=p4/(rho4*R)\n",
    "\"dominio\"\n",
    "dominio=zeros((3,L*N))\n",
    "\"propiedades gas 1 iniciales\"\n",
    "rho1 = 0.125\n",
    "p1 = 0.1\n",
    "u1=0\n",
    "T1=p1/(rho1*R)\n",
    "\n",
    "\"TIEMPO\"\n",
    "tiempo=1.0\n",
    "\"propiedades gas 2\"\n",
    "p2=0\n",
    "rho2 = 0\n",
    "u2 = 0\n",
    "T2=0\n",
    "\"propiedades gas 2' \"\n",
    "p2_prima=0\n",
    "rho2_prima = 0\n",
    "u2_prima = 0\n",
    "\"propiedades gas 3\"\n",
    "p3=0\n",
    "rho3 = 0\n",
    "u3 = 0\n",
    "\"velocidad del sonido en medios 1 y 4\"\n",
    "a1=sqrt(gamma*p1/rho1)\n",
    "a4=sqrt(gamma*p4/rho4)\n",
    "\"fronteras entre regiones\"\n",
    "x21=0\n",
    "x2prima2=0\n",
    "x32prima=0\n",
    "x43=0\n",
    "\n",
    "\n",
    "def presion_2 (p2):\n",
    "    return  (p2/p1)*pow((1-(gamma-1)*(a1/a4)*(p2/p1-1)/sqrt(2*gamma*(2*gamma+(gamma+1)*(p2/p1-1)))),-2*gamma/(gamma-1)) -p4/p1\n",
    "\n",
    "def velocidad_2(p2):\n",
    "    return a1/gamma*(p2/p1-1)*sqrt((2*gamma)/(gamma+1)/(p2/p1+(gamma-1/(gamma+1))))\n",
    "\n",
    "def temperatura_2(p2):\n",
    "    return (p1/p2)*T1/(((gamma+1.0)/(gamma-1.0)+p2/p1)/(1.0+(p2/p1)*(gamma+1.0)/(gamma-1.0)))\n",
    "\n",
    "def velocidad_shock(p2):\n",
    "    return a1*sqrt((gamma+1)/(2*gamma)*(p2/p1-1)+1)\n",
    "\n",
    "def velocidad_3(x):\n",
    "    return 2.0/(gamma+1.0)*(a4+(-L*0.5+x)/tiempo)\n",
    "\n",
    "def presion_3(u3):\n",
    "    return p4*pow(1-(gamma-1)*(u3/a4)/2.0 , 2.0*gamma/(gamma-1.0))\n",
    "\n",
    "def densindad_3(p3):\n",
    "    return rho4*pow((p3/p4),-gamma)\n",
    "\n",
    "\"cantidades de 2\"\n",
    "p2=optimize.newton(presion_2,1)\n",
    "u2=velocidad_2(p2)\n",
    "T2=temperatura_2(p2)\n",
    "rho2=p2/(T2*R)\n",
    "x21=velocidad_shock(p2)*(tiempo)+L/2.0\n",
    "a=int(round(x21*N))\n",
    "\n",
    "\"cantidades de 2 prima\"\n",
    "u2_prima=u2\n",
    "p2_prima=p2\n",
    "x2prima2=u2*tiempo+L/2.0\n",
    "b=int(round(x2prima2*N))\n",
    "\n",
    "\"densidad de 2 prima\"\n",
    "x43=L/2.0-a4*tiempo\n",
    "d=int(round(x43*N))\n",
    "u3=velocidad_3(array_posiciones)\n",
    "p3=presion_3(u3)\n",
    "rho3=densindad_3(p3)\n",
    "\n",
    "rho2_prima=x43*rho3[d]\n",
    "\n",
    "x32prima=u2*tiempo-sqrt(p2_prima*gamma/rho2_prima)*tiempo+L/2.0\n",
    "c=int(round(x32prima*N))\n",
    "\n",
    "\"asignar valores en regiones\"\n",
    "\n",
    "dominio[0][0:a]=u1\n",
    "dominio[1][0:a]=rho1\n",
    "dominio[2][0:a]=p1\n",
    "\n",
    "dominio[0][a:b]=u2\n",
    "dominio[1][a:b]=rho2\n",
    "dominio[2][a:b]=p2\n",
    "\n",
    "dominio[0][b:c]=u2_prima\n",
    "dominio[1][b:c]=rho2_prima\n",
    "dominio[2][b:c]=p2_prima\n",
    "\n",
    "dominio[0][c:d]=u3[c:d]\n",
    "dominio[1][c:d]=rho3[c:d]\n",
    "dominio[2][c:d]=p3[c:d]\n",
    "\n",
    "dominio[0][d:L*N]=u4\n",
    "dominio[1][d:L*N]=rho4\n",
    "dominio[2][d:L*N]=p4\n",
    "\n",
    "\n"
   ]
  },
  {
   "cell_type": "code",
   "execution_count": null,
   "metadata": {
    "collapsed": false
   },
   "outputs": [],
   "source": []
  },
  {
   "cell_type": "code",
   "execution_count": 426,
   "metadata": {
    "collapsed": false
   },
   "outputs": [
    {
     "data": {
      "text/plain": [
       "2.4143272983086863"
      ]
     },
     "execution_count": 426,
     "metadata": {},
     "output_type": "execute_result"
    }
   ],
   "source": [
    "velocidad_2(x32prima)-velocidad_3(x32prima)"
   ]
  },
  {
   "cell_type": "code",
   "execution_count": 427,
   "metadata": {
    "collapsed": false
   },
   "outputs": [
    {
     "data": {
      "text/plain": [
       "0.0"
      ]
     },
     "execution_count": 427,
     "metadata": {},
     "output_type": "execute_result"
    }
   ],
   "source": [
    "velocidad_3(x43)"
   ]
  },
  {
   "cell_type": "code",
   "execution_count": 428,
   "metadata": {
    "collapsed": false
   },
   "outputs": [
    {
     "data": {
      "text/plain": [
       "0.25725990951093147"
      ]
     },
     "execution_count": 428,
     "metadata": {},
     "output_type": "execute_result"
    }
   ],
   "source": [
    "p2-presion_3(x32prima)"
   ]
  },
  {
   "cell_type": "code",
   "execution_count": 431,
   "metadata": {
    "collapsed": false
   },
   "outputs": [
    {
     "data": {
      "text/plain": [
       "1.0"
      ]
     },
     "execution_count": 431,
     "metadata": {},
     "output_type": "execute_result"
    }
   ],
   "source": [
    "presion_3(velocidad_3(x43))"
   ]
  },
  {
   "cell_type": "code",
   "execution_count": null,
   "metadata": {
    "collapsed": true
   },
   "outputs": [],
   "source": []
  }
 ],
 "metadata": {
  "kernelspec": {
   "display_name": "Python 2",
   "language": "python",
   "name": "python2"
  }
 },
 "nbformat": 4,
 "nbformat_minor": 0
}
